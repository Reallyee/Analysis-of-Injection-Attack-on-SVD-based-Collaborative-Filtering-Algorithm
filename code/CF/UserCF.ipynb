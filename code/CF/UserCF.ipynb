{
 "cells": [
  {
   "cell_type": "code",
   "execution_count": 1,
   "metadata": {},
   "outputs": [
    {
     "name": "stdout",
     "output_type": "stream",
     "text": [
      "<class 'numpy.ndarray'>\n",
      "(4, 4)\n"
     ]
    }
   ],
   "source": [
    "import numpy as np\n",
    "import math\n",
    "from operator import itemgetter\n",
    "train =np.array([[0,3,4,0],[2,0,3,5],[5,0,1,3],[0,0,4,4]])\n",
    "print(type(train))\n",
    "print(np.shape(train))\n",
    "# train = dict(enumerate(dict(enumerate(a)) for a in train))\n",
    "# 可以将rating减去每个user的平均分，大于平均分的为正反馈，小于的置0"
   ]
  },
  {
   "cell_type": "code",
   "execution_count": 2,
   "metadata": {},
   "outputs": [],
   "source": [
    "def UserSimilarity(train):\n",
    "    mov_user = train.transpose()\n",
    "    \n",
    "    #caculate co-rated movies\n",
    "    co = {}\n",
    "    for i in range(np.shape(mov_user)[0]):\n",
    "        #users who rate the same movie\n",
    "        users = np.where(mov_user[i]>0)[0]\n",
    "        for u in users:\n",
    "            #print(type(u))\n",
    "            if u not in co:\n",
    "                co[u] = {}\n",
    "            for v in users:\n",
    "                if u==v:\n",
    "                    continue;\n",
    "                if(v not in co[u]):\n",
    "                    co[u][v] = 0\n",
    "                #the num of movies co-rated by u and v\n",
    "                co[u][v] += 1\n",
    "    print(\"co\",co)\n",
    "                \n",
    "    #caculate similarity matrix user_sim\n",
    "    user_sim = {}\n",
    "    for u, co_u in co.items():\n",
    "        if u not in user_sim:\n",
    "            user_sim[u] = {}\n",
    "        for v, times in co_u.items():\n",
    "            u_len = np.count_nonzero(train[u,:])\n",
    "            v_len = np.count_nonzero(train[v,:])\n",
    "#             print(u_len,\" \",v_len)\n",
    "#             print(times)\n",
    "#             print(math.sqrt( u_len * v_len ))\n",
    "            user_sim[u][v] = times/math.sqrt( u_len * v_len )\n",
    "            \n",
    "            \n",
    "    \n",
    "    print(\"sim\",user_sim)\n",
    "    return user_sim  "
   ]
  },
  {
   "cell_type": "code",
   "execution_count": 9,
   "metadata": {},
   "outputs": [],
   "source": [
    "def Recommend(u,train,user_sim):\n",
    "#   Find K similar users and recommend N movies for user\n",
    "    k = 2\n",
    "    n = 1\n",
    "    \n",
    "    rank = {}\n",
    "    total = {}\n",
    "    m_u = np.where(train[u]>0)[0]\n",
    "    for v, sim in sorted(user_sim[u].items(), key=itemgetter(1), reverse=True)[0:k]:\n",
    "        print(\"top k: u\",v)\n",
    "        m_v = np.where(train[v,:]>0)[0]\n",
    "        print(\"m_v\", m_v)\n",
    "        for m in m_v:\n",
    "            if m in m_u:\n",
    "                continue;\n",
    "            if m not in rank:\n",
    "                rank[m]=0\n",
    "                total[m]=0\n",
    "            rank[m] += sim*train[v,m]\n",
    "            total[m] += sim*5\n",
    "    #normalization\n",
    "    for m in rank:\n",
    "        for t in total:\n",
    "            if t != 0:\n",
    "                m = m/t\n",
    "    print(\"rank\",rank)\n",
    "    return sorted(rank.items(), key=itemgetter(1), reverse=True)[0:n]"
   ]
  },
  {
   "cell_type": "code",
   "execution_count": 10,
   "metadata": {},
   "outputs": [
    {
     "name": "stdout",
     "output_type": "stream",
     "text": [
      "co {1: {2: 3, 0: 1, 3: 2}, 2: {1: 3, 0: 1, 3: 2}, 0: {1: 1, 2: 1, 3: 1}, 3: {0: 1, 1: 2, 2: 2}}\n",
      "sim {1: {2: 1.0, 0: 0.4082482904638631, 3: 0.8164965809277261}, 2: {1: 1.0, 0: 0.4082482904638631, 3: 0.8164965809277261}, 0: {1: 0.4082482904638631, 2: 0.4082482904638631, 3: 0.5}, 3: {0: 0.5, 1: 0.8164965809277261, 2: 0.8164965809277261}}\n",
      "top k: u 3\n",
      "m_v [2 3]\n",
      "top k: u 1\n",
      "m_v [0 2 3]\n",
      "rank {3: 4.041241452319316, 0: 0.8164965809277261}\n",
      "rec [(3, 4.041241452319316)]\n"
     ]
    }
   ],
   "source": [
    "user_sim = UserSimilarity(train)\n",
    "rec = Recommend(0,train,user_sim)\n",
    "print(\"rec\",rec)"
   ]
  },
  {
   "cell_type": "code",
   "execution_count": null,
   "metadata": {},
   "outputs": [],
   "source": []
  },
  {
   "cell_type": "code",
   "execution_count": 53,
   "metadata": {},
   "outputs": [
    {
     "name": "stdout",
     "output_type": "stream",
     "text": [
      "{0: array([0, 3, 4]), 1: array([2, 0, 3])}\n",
      "{0: {0: 0, 1: 2}, 1: {0: 3, 1: 0}, 2: {0: 4, 1: 3}}\n"
     ]
    }
   ],
   "source": [
    "# a=np.where(train[0]>0)\n",
    "# print(a)\n",
    "# for i in a[0]:\n",
    "#     #print(type(i))\n",
    "#     print(i)\n",
    "\n",
    "\n",
    "# train=np.array([[0,3,4],[2,0,3]])\n",
    "# # for a,b,c in train:\n",
    "# #     print(a,\" \",b,\" \",c)\n",
    "# # d = {a : b for a,b,c in train}\n",
    "# # print(d)\n",
    "# d1 = dict(enumerate(a for a in train))\n",
    "# print(d1)\n",
    "\n",
    "# d2 = dict(enumerate(dict(enumerate(a)) for a in train.transpose()))\n",
    "# print(d2)\n",
    "\n",
    "# train=np.array([[0,3,4],[2,0,3]])\n",
    "# i = np.where(train[0,:]>0)[0]\n",
    "# print(i)\n",
    "# print(train[0,i])"
   ]
  }
 ],
 "metadata": {
  "kernelspec": {
   "display_name": "Python 3",
   "language": "python",
   "name": "python3"
  },
  "language_info": {
   "codemirror_mode": {
    "name": "ipython",
    "version": 3
   },
   "file_extension": ".py",
   "mimetype": "text/x-python",
   "name": "python",
   "nbconvert_exporter": "python",
   "pygments_lexer": "ipython3",
   "version": "3.6.5"
  }
 },
 "nbformat": 4,
 "nbformat_minor": 2
}
