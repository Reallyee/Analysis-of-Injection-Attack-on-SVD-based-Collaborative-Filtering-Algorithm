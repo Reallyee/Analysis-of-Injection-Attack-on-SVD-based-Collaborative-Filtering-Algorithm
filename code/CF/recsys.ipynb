{
 "cells": [
  {
   "cell_type": "code",
   "execution_count": 61,
   "metadata": {},
   "outputs": [],
   "source": [
    "import os\n",
    "import codecs\n",
    "import glob\n",
    "import numpy as np\n",
    "import re"
   ]
  },
  {
   "cell_type": "code",
   "execution_count": 2,
   "metadata": {},
   "outputs": [],
   "source": [
    "# read file\n",
    "def read_files():\n",
    "    all_information = np.zeros((5, 944, 1683))\n",
    "    os.getcwd()\n",
    "    os.chdir(\"/Users/audrey/Documents/GitHub/Differential-Privacy/data/train\")\n",
    "    '''\n",
    "    movie is the dictionary of the all the movie information\n",
    "    the format is :\n",
    "    {movie_id : [ [customer_id, ranking, date]]} \n",
    "    '''\n",
    "    pattern = re.compile(r'\\d+') #find numbers\n",
    "    files = glob.glob('*.txt')\n",
    "\n",
    "    index = 0\n",
    "    for filename in files:\n",
    "        f = codecs.open(filename, 'r', encoding='utf-8')\n",
    "        for line in f:\n",
    "                information = pattern.findall(line)\n",
    "                all_information[index][int(information[0])][int(information[1])]=int(information[2])\n",
    "        index += 1\n",
    "\n",
    "    return all_information"
   ]
  },
  {
   "cell_type": "code",
   "execution_count": 3,
   "metadata": {},
   "outputs": [],
   "source": [
    "# Movie Effects\n",
    "def getMAvg(df):\n",
    "    GSum = np.sum(df)\n",
    "    GCnt = np.count_nonzero(df)\n",
    "    G = GSum/GCnt\n",
    "    \n",
    "    beta = 0.1\n",
    "    MSum = np.sum(df,axis=0) #the number of ratings for each movie\n",
    "    MCnt = np.count_nonzero(df,axis=0)    \n",
    "    # produce a stabilized per-movie average rating \n",
    "    MAvg = (MSum + beta*G)/(MCnt + beta)\n",
    "    return MAvg\n",
    " \n",
    "# User Effects\n",
    "def getUAvg(df,MAvg):\n",
    "    GSum = np.sum(df)\n",
    "    GCnt = np.count_nonzero(df)\n",
    "    G = GSum/GCnt\n",
    "    \n",
    "    beta = 0.1\n",
    "    USum = np.sum(df-MAvg,axis=1) + beta*G\n",
    "    c_u = np.count_nonzero(df,axis=1) #the number of movies for each user\n",
    "    UAvg = USum/(c_u + beta)\n",
    "    return UAvg\n",
    "\n",
    "def clamp(df,UAvg,bound):\n",
    "    #lower the sensitivity of the measurements\n",
    "    df_hat = (df.transpose()-UAvg).transpose()\n",
    "    df_hat[ df_hat < -bound ] = -bound\n",
    "    df_hat[ df_hat > bound ] = bound\n",
    "    return df_hat"
   ]
  },
  {
   "cell_type": "code",
   "execution_count": 51,
   "metadata": {},
   "outputs": [],
   "source": [
    "# Covariance Matrix\n",
    "def getCovWgt(cdf,df):\n",
    "    w_u =  1/np.count_nonzero(df,axis=1) # 1/ ||e_u||\n",
    "    w_u = np.repeat(w_u, np.shape(df)[1], axis=0)\n",
    "    w_u = np.reshape(w_u,(np.shape(df)[0], np.shape(df)[1])).transpose()\n",
    "    \n",
    "    Cov = np.sum(w_u * cdf.transpose(),axis=1)  #ratings for each movie with a shape of (m,1)\n",
    "    \n",
    "    e_u = df*(df>0)\n",
    "    e_u[e_u>0] = 1\n",
    "    \n",
    "    Wgt = np.sum(w_u * e_u.transpose(), axis=1) \n",
    "    "
   ]
  },
  {
   "cell_type": "code",
   "execution_count": 4,
   "metadata": {},
   "outputs": [],
   "source": [
    "# user item rating\n",
    "dfs = read_files()\n"
   ]
  },
  {
   "cell_type": "code",
   "execution_count": 5,
   "metadata": {},
   "outputs": [],
   "source": [
    "df = dfs[0]\n",
    "MAvg = getMAvg(df)\n",
    "UAvg = getUAvg(df,MAvg)\n",
    "cdf = clamp(df,UAvg,0.09)"
   ]
  },
  {
   "cell_type": "code",
   "execution_count": 50,
   "metadata": {},
   "outputs": [
    {
     "name": "stdout",
     "output_type": "stream",
     "text": [
      "[3 3 3 4 5 7 7]\n"
     ]
    }
   ],
   "source": [
    "arr=np.array([1,2,3,4,5,7,8])\n",
    "arr[arr < 3] = 3\n",
    "arr[arr > 5] = 7\n",
    "print(arr)"
   ]
  },
  {
   "cell_type": "code",
   "execution_count": 56,
   "metadata": {},
   "outputs": [
    {
     "name": "stdout",
     "output_type": "stream",
     "text": [
      "[1 2 3]\n",
      "[[1 2 3 4 5]\n",
      " [2 3 4 5 6]\n",
      " [3 4 5 6 7]]\n"
     ]
    },
    {
     "ename": "ValueError",
     "evalue": "operands could not be broadcast together with shapes (3,) (3,5) ",
     "traceback": [
      "\u001b[0;31m---------------------------------------------------------------------------\u001b[0m",
      "\u001b[0;31mValueError\u001b[0m                                Traceback (most recent call last)",
      "\u001b[0;32m<ipython-input-56-4bc1af3f36f4>\u001b[0m in \u001b[0;36m<module>\u001b[0;34m()\u001b[0m\n\u001b[1;32m      3\u001b[0m \u001b[0my\u001b[0m \u001b[0;34m=\u001b[0m \u001b[0mnp\u001b[0m\u001b[0;34m.\u001b[0m\u001b[0marray\u001b[0m\u001b[0;34m(\u001b[0m\u001b[0;34m[\u001b[0m\u001b[0;34m[\u001b[0m\u001b[0;36m1\u001b[0m\u001b[0;34m,\u001b[0m\u001b[0;36m2\u001b[0m\u001b[0;34m,\u001b[0m\u001b[0;36m3\u001b[0m\u001b[0;34m,\u001b[0m\u001b[0;36m4\u001b[0m\u001b[0;34m,\u001b[0m\u001b[0;36m5\u001b[0m\u001b[0;34m]\u001b[0m\u001b[0;34m,\u001b[0m\u001b[0;34m[\u001b[0m\u001b[0;36m2\u001b[0m\u001b[0;34m,\u001b[0m\u001b[0;36m3\u001b[0m\u001b[0;34m,\u001b[0m\u001b[0;36m4\u001b[0m\u001b[0;34m,\u001b[0m\u001b[0;36m5\u001b[0m\u001b[0;34m,\u001b[0m\u001b[0;36m6\u001b[0m\u001b[0;34m]\u001b[0m\u001b[0;34m,\u001b[0m\u001b[0;34m[\u001b[0m\u001b[0;36m3\u001b[0m\u001b[0;34m,\u001b[0m\u001b[0;36m4\u001b[0m\u001b[0;34m,\u001b[0m\u001b[0;36m5\u001b[0m\u001b[0;34m,\u001b[0m\u001b[0;36m6\u001b[0m\u001b[0;34m,\u001b[0m\u001b[0;36m7\u001b[0m\u001b[0;34m]\u001b[0m\u001b[0;34m]\u001b[0m\u001b[0;34m)\u001b[0m\u001b[0;34m\u001b[0m\u001b[0m\n\u001b[1;32m      4\u001b[0m \u001b[0mprint\u001b[0m\u001b[0;34m(\u001b[0m\u001b[0my\u001b[0m\u001b[0;34m)\u001b[0m\u001b[0;34m\u001b[0m\u001b[0m\n\u001b[0;32m----> 5\u001b[0;31m \u001b[0mz\u001b[0m \u001b[0;34m=\u001b[0m \u001b[0mx\u001b[0m\u001b[0;34m*\u001b[0m\u001b[0my\u001b[0m\u001b[0;34m\u001b[0m\u001b[0m\n\u001b[0m\u001b[1;32m      6\u001b[0m \u001b[0mprint\u001b[0m\u001b[0;34m(\u001b[0m\u001b[0mz\u001b[0m\u001b[0;34m)\u001b[0m\u001b[0;34m\u001b[0m\u001b[0m\n",
      "\u001b[0;31mValueError\u001b[0m: operands could not be broadcast together with shapes (3,) (3,5) "
     ],
     "output_type": "error"
    }
   ],
   "source": [
    "x = np.array([1,2,3])\n",
    "print(x)\n",
    "y = np.array([[1,2,3,4,5],[2,3,4,5,6],[3,4,5,6,7]])\n",
    "print(y)\n",
    "z = x*y\n",
    "print(z)"
   ]
  },
  {
   "cell_type": "code",
   "execution_count": 53,
   "metadata": {},
   "outputs": [
    {
     "name": "stdout",
     "output_type": "stream",
     "text": [
      "[1 1 1 1 2 2 2 2 3 3 3 3]\n",
      "[[1 2 3]\n",
      " [1 2 3]\n",
      " [1 2 3]\n",
      " [1 2 3]]\n"
     ]
    }
   ],
   "source": [
    "a = np.array([1,2,3])\n",
    "b = np.repeat(a,4,axis=0)\n",
    "print(b)\n",
    "print(np.reshape(b,(3,4)).transpose())"
   ]
  },
  {
   "cell_type": "code",
   "execution_count": null,
   "metadata": {},
   "outputs": [],
   "source": []
  }
 ],
 "metadata": {
  "kernelspec": {
   "display_name": "Python 3",
   "language": "python",
   "name": "python3"
  },
  "language_info": {
   "codemirror_mode": {
    "name": "ipython",
    "version": 3
   },
   "file_extension": ".py",
   "mimetype": "text/x-python",
   "name": "python",
   "nbconvert_exporter": "python",
   "pygments_lexer": "ipython3",
   "version": "3.6.4"
  }
 },
 "nbformat": 4,
 "nbformat_minor": 2
}
